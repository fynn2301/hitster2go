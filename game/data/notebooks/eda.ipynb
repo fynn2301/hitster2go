{
 "cells": [
  {
   "cell_type": "code",
   "execution_count": 96,
   "metadata": {},
   "outputs": [],
   "source": [
    "import pandas as pd\n",
    "import matplotlib.pyplot as plt\n",
    "import ast\n",
    "from collections import Counter\n",
    "compare_list = [\"match_score\", \"artists\", \"artist_spotify\",\"title\",  \"title_spotify\",\"year_released\"]"
   ]
  },
  {
   "cell_type": "code",
   "execution_count": null,
   "metadata": {},
   "outputs": [],
   "source": [
    "\n",
    "\n",
    "# Read the CSV file, ensuring no extra index is added\n",
    "df_songs_chart = pd.read_csv('/Users/fynnersatz/Desktop/python/hitster/django/music_game/game/data/raw_de/chart_data_de.csv', index_col=None)\n",
    "df_songs_spotify = pd.read_csv('/Users/fynnersatz/Desktop/python/hitster/spotify_data_de.csv', index_col=None)\n",
    "df_songs_spotify['artist_spotify'] = df_songs_spotify['artist_spotify'].apply(ast.literal_eval)\n",
    "df_songs_spotify['country'] = \"de\"\n",
    "\n",
    "\n",
    "df_song = pd.concat([df_songs_chart, df_songs_spotify], axis=1)\n",
    "\n"
   ]
  },
  {
   "cell_type": "code",
   "execution_count": null,
   "metadata": {},
   "outputs": [],
   "source": [
    "df_song = pd.read_csv('/Users/fynnersatz/Desktop/python/hitster/chart_data_with_spotify_de.csv', index_col=None)"
   ]
  },
  {
   "cell_type": "code",
   "execution_count": null,
   "metadata": {},
   "outputs": [],
   "source": [
    "pd.set_option(\"display.max_rows\", 500)\n",
    "df_song[~df_song[\"id_spotify\"].isna()].sort_values(\"match_score\", ascending=True).head(100)[compare_list]"
   ]
  },
  {
   "cell_type": "code",
   "execution_count": null,
   "metadata": {},
   "outputs": [],
   "source": [
    "df_song[~df_song[\"id_spotify\"].isna()].sort_values(\"match_score\", ascending=True).hist(column=\"match_score\",bins=100)"
   ]
  },
  {
   "cell_type": "code",
   "execution_count": null,
   "metadata": {},
   "outputs": [],
   "source": [
    "remaining = df_song[(~df_song[\"id_spotify\"].isna())& (df_song[\"match_score\"] < 0.95)]\n",
    "fixed = df_song[(~df_song[\"id_spotify\"].isna())& (df_song[\"match_score\"] >= 0.95)]\n",
    "print(len(remaining))\n",
    "print(len(fixed))"
   ]
  },
  {
   "cell_type": "code",
   "execution_count": null,
   "metadata": {},
   "outputs": [],
   "source": [
    "pd.set_option(\"display.max_rows\", 500)\n",
    "fixed.sort_values(\"match_score\", ascending=True).head(100)[compare_list]"
   ]
  },
  {
   "cell_type": "code",
   "execution_count": null,
   "metadata": {},
   "outputs": [],
   "source": [
    "pd.set_option(\"display.max_rows\", 600)\n",
    "remaining.sort_values(\"match_score\")[compare_list].sort_values(\"match_score\", ascending=True).head(400)[compare_list]"
   ]
  },
  {
   "cell_type": "code",
   "execution_count": null,
   "metadata": {},
   "outputs": [],
   "source": [
    "pd.set_option(\"display.max_rows\", 600)\n",
    "fixed.sort_values(\"match_score\")[compare_list]"
   ]
  },
  {
   "cell_type": "markdown",
   "metadata": {},
   "source": [
    "## rest"
   ]
  },
  {
   "cell_type": "code",
   "execution_count": null,
   "metadata": {},
   "outputs": [],
   "source": [
    "# Funktion zur Sicherstellung der Gleichheit für Listen oder einfache Werte\n",
    "def ensure_unique(series, col_name):\n",
    "    if series.apply(lambda x: isinstance(x, list)).all():  # Prüfen, ob alle Werte Listen sind\n",
    "        unique_values = series.apply(tuple).unique()  # Listen in Tupel umwandeln für .unique()\n",
    "    else:\n",
    "        unique_values = series.unique()\n",
    "    if len(unique_values) > 1:\n",
    "        raise ValueError(f\"Spalte '{col_name}' hat mehrere unterschiedliche Werte in einer Gruppe: {unique_values}\")\n",
    "    return unique_values[0]\n",
    "\n",
    "def calculate_points(series, col_name):\n",
    "    mean = series.mean()\n",
    "    mean = mean * ((len(series) * 0.1 - 0.1) + 1)\n",
    "    return mean\n"
   ]
  },
  {
   "cell_type": "code",
   "execution_count": null,
   "metadata": {},
   "outputs": [],
   "source": [
    "# Aggregationslogik definieren\n",
    "aggregations_country = {\n",
    "    \"artists\": lambda x: x.iloc[0],  # Take the first element of the group\n",
    "    \"artist_spotify\": lambda x: ensure_unique(x, \"artist_spotify\"),\n",
    "    \"title\": lambda x: x.iloc[0],   # Take the first element of the group\n",
    "    \"title_spotify\": lambda x: ensure_unique(x, \"title_spotify\"),\n",
    "    \"match_score\": lambda x: x.iloc[0],  # Take the first element of the group\n",
    "    \"year_released\": lambda x: x.iloc[0],  # Take the first element of the group\n",
    "    \"year_charts\": lambda x: x.min() if len(x) == len(set(x)) else ValueError(f\"'year_charts' hat doppelte Werte: {x.tolist()}\"),\n",
    "    \"points\": \"sum\",\n",
    "    \"pos\": \"min\",\n",
    "    \"max_pos\": \"min\",\n",
    "    \"weeks_top10\": \"sum\",\n",
    "    \"image\": lambda x: ensure_unique(x, \"image\"),\n",
    "    \"country\": lambda x: ensure_unique(x, \"country\"),\n",
    "}\n",
    "\n",
    "# Grouping und Aggregation\n",
    "try:\n",
    "    # `id_spotify` wird als Index verwendet und anschließend zurückgesetzt\n",
    "    df_songs_de_sorted = df_songs_de.sort_values(by=[\"id_spotify\", \"match_score\"], ascending=[True, False])\n",
    "    df_songs_de = df_songs_de_sorted.groupby(\"id_spotify\").agg(aggregations_country).reset_index()\n",
    "except ValueError as e:\n",
    "    print(\"Fehler bei der Gruppierung:\", e)\n",
    "\n",
    "try:\n",
    "    # `id_spotify` wird als Index verwendet und anschließend zurückgesetzt\n",
    "    df_songs_usa_sorted = df_songs_usa.sort_values(by=[\"id_spotify\", \"match_score\"], ascending=[True, False])\n",
    "    df_songs_usa = df_songs_usa_sorted.groupby(\"id_spotify\").agg(aggregations_country).reset_index()\n",
    "except ValueError as e:\n",
    "    print(\"Fehler bei der Gruppierung:\", e)"
   ]
  },
  {
   "cell_type": "code",
   "execution_count": null,
   "metadata": {},
   "outputs": [],
   "source": [
    "df_songs = pd.concat([df_songs_de, df_songs_usa], axis=0)"
   ]
  },
  {
   "cell_type": "code",
   "execution_count": null,
   "metadata": {},
   "outputs": [],
   "source": [
    "# Aggregationslogik definieren\n",
    "aggregations_total = {\n",
    "    \"artists\": lambda x: x.iloc[0],  # Take the first element of the group\n",
    "    \"artist_spotify\": lambda x: ensure_unique(x, \"artist_spotify\"),\n",
    "    \"title\": lambda x: x.iloc[0],   # Take the first element of the group\n",
    "    \"title_spotify\": lambda x: ensure_unique(x, \"title_spotify\"),\n",
    "    \"match_score\": lambda x: x.iloc[0],  # Take the first element of the group\n",
    "    \"year_released\": lambda x: x.iloc[0],  # Take the first element of the group\n",
    "    \"year_charts\": lambda x: x.iloc[0],  # Take the first element of the group\n",
    "    \"points\": \"sum\",\n",
    "    \"pos\": \"min\",\n",
    "    \"max_pos\": \"min\",\n",
    "    \"weeks_top10\": \"sum\",\n",
    "    \"image\": lambda x: ensure_unique(x, \"image\"),\n",
    "    \"country\": lambda x: x.iloc[0],  # Take the first element of the group\n",
    "}\n",
    "try:\n",
    "    # `id_spotify` wird als Index verwendet und anschließend zurückgesetzt\n",
    "    df_songs_sorted = df_songs.sort_values(by=[\"id_spotify\", \"year_released\", \"match_score\"], ascending=[True, True, False])\n",
    "    df_songs_filtered = df_songs_sorted.groupby(\"id_spotify\").agg(aggregations_total).sort_values([\"year_released\", \"points\"], ascending=[False, False]).reset_index()\n",
    "except ValueError as e:\n",
    "    print(\"Fehler bei der Gruppierung:\", e)"
   ]
  },
  {
   "cell_type": "code",
   "execution_count": null,
   "metadata": {},
   "outputs": [],
   "source": [
    "top_10_p_year = df_songs_filtered.groupby(\"year_released\", group_keys=False).apply(lambda group: group.nlargest(10, \"points\"))"
   ]
  },
  {
   "cell_type": "markdown",
   "metadata": {},
   "source": [
    "## Plots"
   ]
  },
  {
   "cell_type": "code",
   "execution_count": null,
   "metadata": {},
   "outputs": [],
   "source": [
    "import matplotlib.pyplot as plt\n",
    "import seaborn as sns\n",
    "\n",
    "def create_boxplot(df, x_col, y_col, title=None, figsize=(10, 6)):\n",
    "    \"\"\"\n",
    "    Create a box plot from a pandas DataFrame.\n",
    "    \n",
    "    Parameters:\n",
    "    df (pandas.DataFrame): Input DataFrame\n",
    "    x_col (str): Name of the integer column for x-axis\n",
    "    y_col (str): Name of the numeric column for y-axis\n",
    "    title (str, optional): Plot title\n",
    "    figsize (tuple, optional): Figure size as (width, height)\n",
    "    \"\"\"\n",
    "    # Create figure and axis\n",
    "    plt.figure(figsize=figsize)\n",
    "    \n",
    "    # Create box plot using seaborn\n",
    "    sns.boxplot(data=df, x=x_col, y=y_col, fli)\n",
    "    \n",
    "    # Customize plot\n",
    "    plt.title(title or f'Box Plot of {y_col} by {x_col}')\n",
    "    plt.xlabel(x_col)\n",
    "    plt.ylabel(y_col)\n",
    "    \n",
    "    # Rotate x-axis labels if there are many categories\n",
    "    plt.xticks(rotation=45 if len(df[x_col].unique()) > 10 else 0)\n",
    "    \n",
    "    # Adjust layout to prevent label cutoff\n",
    "    plt.tight_layout()\n",
    "    \n",
    "    # Show plot\n",
    "    plt.show()\n",
    "\n"
   ]
  },
  {
   "cell_type": "code",
   "execution_count": null,
   "metadata": {},
   "outputs": [],
   "source": [
    "create_boxplot(df_songs_filtered, \"year_released\", \"points\")"
   ]
  },
  {
   "cell_type": "code",
   "execution_count": null,
   "metadata": {},
   "outputs": [],
   "source": [
    "\n",
    "df_songs_filtered.groupby(by=\"year_released\").agg({\"points\": \"median\"}).plot()"
   ]
  },
  {
   "cell_type": "code",
   "execution_count": null,
   "metadata": {},
   "outputs": [],
   "source": [
    "df_songs_filtered.sort_values(\"points\", ascending=False).head(200).groupby(by=\"year_released\").agg({\"points\": \"median\"}).plot()"
   ]
  },
  {
   "cell_type": "code",
   "execution_count": null,
   "metadata": {},
   "outputs": [],
   "source": [
    "df_songs_filtered.hist(column=\"year_released\", bins=len(df_songs_filtered[\"year_released\"].unique()))"
   ]
  },
  {
   "cell_type": "markdown",
   "metadata": {},
   "source": [
    "## Genre"
   ]
  },
  {
   "cell_type": "code",
   "execution_count": 98,
   "metadata": {},
   "outputs": [],
   "source": [
    "df_songs = pd.read_csv('/Users/fynnersatz/Desktop/python/hitster/django/music_game/game/data/processed_data/song_data.csv', index_col=None)"
   ]
  },
  {
   "cell_type": "code",
   "execution_count": 102,
   "metadata": {},
   "outputs": [
    {
     "data": {
      "text/plain": [
       "array([[<Axes: title={'center': 'match_score'}>]], dtype=object)"
      ]
     },
     "execution_count": 102,
     "metadata": {},
     "output_type": "execute_result"
    },
    {
     "data": {
      "image/png": "[encoded data removed]",
      "text/plain": [
       "<Figure size 640x480 with 1 Axes>"
      ]
     },
     "metadata": {},
     "output_type": "display_data"
    }
   ],
   "source": [
    "df_songs.hist(column=\"match_score\", bins=100)\n"
   ]
  },
  {
   "cell_type": "code",
   "execution_count": null,
   "metadata": {},
   "outputs": [],
   "source": []
  },
  {
   "cell_type": "code",
   "execution_count": 83,
   "metadata": {},
   "outputs": [],
   "source": [
    "df_songs['genre'] = df_songs['genre'].apply(ast.literal_eval)"
   ]
  },
  {
   "cell_type": "code",
   "execution_count": 86,
   "metadata": {},
   "outputs": [
    {
     "data": {
      "image/png": "[encoded data removed]",
      "text/plain": [
       "<Figure size 1000x500 with 1 Axes>"
      ]
     },
     "metadata": {},
     "output_type": "display_data"
    }
   ],
   "source": [
    "all_tags = [tag for sublist in df_songs['genre'] for tag in sublist]\n",
    "\n",
    "# Count the frequency of each tag\n",
    "tag_counts = Counter(all_tags)\n",
    "\n",
    "# Get the top 30 tags\n",
    "top_30_tags = tag_counts.most_common(10)\n",
    "\n",
    "# Convert to a DataFrame for easy plotting\n",
    "top_30_df = pd.DataFrame(top_30_tags, columns=['Tag', 'Count'])\n",
    "\n",
    "# Plot the top 30 tags\n",
    "plt.figure(figsize=(10, 5))\n",
    "plt.barh(top_30_df['Tag'], top_30_df['Count'])\n",
    "plt.xlabel('Number of Appearances')\n",
    "plt.ylabel('Tags')\n",
    "plt.title('Top 30 Tags by Appearance')\n",
    "plt.gca().invert_yaxis()  # Invert y-axis for better readability\n",
    "plt.show()"
   ]
  },
  {
   "cell_type": "code",
   "execution_count": 79,
   "metadata": {},
   "outputs": [],
   "source": [
    "# get the tag_counts with more than 100 appearances and sort them by count\n",
    "top_tags = {tag: count for tag, count in tag_counts.items() if count > 20}\n",
    "top_tags = dict(sorted(top_tags.items(), key=lambda item: item[1], reverse=True))"
   ]
  },
  {
   "cell_type": "code",
   "execution_count": 64,
   "metadata": {},
   "outputs": [],
   "source": [
    "df_with_spotify = pd.read_csv('/Users/fynnersatz/Desktop/python/hitster/chart_data_with_spotify_de.csv', index_col=None)\n",
    "df_with_genre = pd.read_csv('/Users/fynnersatz/Desktop/python/hitster/chart_data_with_genre_de.csv', index_col=None)\n",
    "\n",
    "df_with_spotify['tags'] = df_with_genre['tags']\n",
    "df_with_spotify.to_csv('chart_data_with_all_data.csv', index=False)"
   ]
  },
  {
   "cell_type": "code",
   "execution_count": 94,
   "metadata": {},
   "outputs": [
    {
     "name": "stdout",
     "output_type": "stream",
     "text": [
      "['Pop', 'Rock', 'Soul/Funk/R&B', 'Hip-Hop/Rap', 'Electronic', 'Schlager', 'Country/Folk']\n"
     ]
    }
   ],
   "source": [
    "print(list(top_30_df[\"Tag\"]))"
   ]
  },
  {
   "cell_type": "code",
   "execution_count": null,
   "metadata": {},
   "outputs": [],
   "source": []
  }
 ],
 "metadata": {
  "kernelspec": {
   "display_name": "hitster-venv",
   "language": "python",
   "name": "python3"
  },
  "language_info": {
   "codemirror_mode": {
    "name": "ipython",
    "version": 3
   },
   "file_extension": ".py",
   "mimetype": "text/x-python",
   "name": "python",
   "nbconvert_exporter": "python",
   "pygments_lexer": "ipython3",
   "version": "3.10.14"
  }
 },
 "nbformat": 4,
 "nbformat_minor": 2
}
